{
 "cells": [
  {
   "cell_type": "code",
   "execution_count": null,
   "id": "86c9fa07",
   "metadata": {},
   "outputs": [
    {
     "ename": "ModuleNotFoundError",
     "evalue": "No module named 'yfinance'",
     "output_type": "error",
     "traceback": [
      "\u001b[1;31m---------------------------------------------------------------------------\u001b[0m",
      "\u001b[1;31mModuleNotFoundError\u001b[0m                       Traceback (most recent call last)",
      "Cell \u001b[1;32mIn[1], line 2\u001b[0m\n\u001b[0;32m      1\u001b[0m \u001b[38;5;66;03m# Step 1: Importing necessary libraries\u001b[39;00m\n\u001b[1;32m----> 2\u001b[0m \u001b[38;5;28;01mimport\u001b[39;00m \u001b[38;5;21;01myfinance\u001b[39;00m \u001b[38;5;28;01mas\u001b[39;00m \u001b[38;5;21;01myf\u001b[39;00m\n\u001b[0;32m      3\u001b[0m \u001b[38;5;28;01mimport\u001b[39;00m \u001b[38;5;21;01mpandas\u001b[39;00m \u001b[38;5;28;01mas\u001b[39;00m \u001b[38;5;21;01mpd\u001b[39;00m\n\u001b[0;32m      4\u001b[0m \u001b[38;5;28;01mimport\u001b[39;00m \u001b[38;5;21;01mnumpy\u001b[39;00m \u001b[38;5;28;01mas\u001b[39;00m \u001b[38;5;21;01mnp\u001b[39;00m\n",
      "\u001b[1;31mModuleNotFoundError\u001b[0m: No module named 'yfinance'"
     ]
    }
   ],
   "source": [
    "# Step 1: Import necessary libraries\n",
    "import yfinance as yf\n",
    "import pandas as pd\n",
    "import numpy as np\n",
    "import matplotlib.pyplot as plt\n",
    "from sklearn.preprocessing import MinMaxScaler\n",
    "from statsmodels.tsa.stattools import adfuller\n"
   ]
  },
  {
   "cell_type": "code",
   "execution_count": null,
   "id": "199834a2",
   "metadata": {},
   "outputs": [],
   "source": [
    "# Fetching data from YFinance for TSLA, BND, and SPY\n",
    "tickers = ['TSLA', 'BND', 'SPY']\n",
    "data = {ticker: yf.download(ticker, start='2015-07-01', end='2025-07-31') for ticker in tickers}\n",
    "\n",
    "# Save data to CSV files for future use\n",
    "for ticker, df in data.items():\n",
    "    df.to_csv(f'data/{ticker}.csv')\n",
    "\n",
    "print(\"Data fetched and saved successfully!\")\n"
   ]
  },
  {
   "cell_type": "code",
   "execution_count": null,
   "id": "8ce188c5",
   "metadata": {},
   "outputs": [],
   "source": [
    "# Step 3: Load the fetched data from CSV for preprocessing\n",
    "tsla = pd.read_csv('data/TSLA.csv', index_col='Date', parse_dates=True)\n",
    "bnd = pd.read_csv('data/BND.csv', index_col='Date', parse_dates=True)\n",
    "spy = pd.read_csv('data/SPY.csv', index_col='Date', parse_dates=True)\n",
    "\n",
    "# Show initial data preview\n",
    "print(\"TSLA Data:\")\n",
    "print(tsla.head())\n",
    "print(\"BND Data:\")\n",
    "print(bnd.head())\n",
    "print(\"SPY Data:\")\n",
    "print(spy.head())\n"
   ]
  },
  {
   "cell_type": "code",
   "execution_count": null,
   "id": "38ab854f",
   "metadata": {},
   "outputs": [],
   "source": [
    "#  Data Cleaning - Handle missing values\n",
    "# Check for missing values in each dataset\n",
    "print(f\"TSLA Missing Data: {tsla.isnull().sum()}\")\n",
    "print(f\"BND Missing Data: {bnd.isnull().sum()}\")\n",
    "print(f\"SPY Missing Data: {spy.isnull().sum()}\")\n",
    "\n",
    "# Fill missing values using forward fill or interpolation\n",
    "tsla.fillna(method='ffill', inplace=True)\n",
    "bnd.fillna(method='ffill', inplace=True)\n",
    "spy.fillna(method='ffill', inplace=True)\n",
    "\n",
    "print(\"Missing values handled using forward fill.\")\n"
   ]
  },
  {
   "cell_type": "code",
   "execution_count": null,
   "id": "86e4231b",
   "metadata": {},
   "outputs": [],
   "source": [
    "# Normalizing the 'Close' prices using MinMaxScaler\n",
    "scaler = MinMaxScaler()\n",
    "\n",
    "# Normalize the closing prices of all assets\n",
    "tsla['Close'] = scaler.fit_transform(tsla[['Close']])\n",
    "bnd['Close'] = scaler.fit_transform(bnd[['Close']])\n",
    "spy['Close'] = scaler.fit_transform(spy[['Close']])\n",
    "\n",
    "# Save cleaned and normalized data to CSV for future use\n",
    "tsla.to_csv('data/TSLA_cleaned.csv')\n",
    "bnd.to_csv('data/BND_cleaned.csv')\n",
    "spy.to_csv('data/SPY_cleaned.csv')\n",
    "\n",
    "print(\"Data normalization completed.\")\n"
   ]
  },
  {
   "cell_type": "code",
   "execution_count": null,
   "id": "462b25c7",
   "metadata": {},
   "outputs": [],
   "source": [
    "#  Calculate daily returns for each asset\n",
    "tsla['Return'] = tsla['Close'].pct_change()\n",
    "bnd['Return'] = bnd['Close'].pct_change()\n",
    "spy['Return'] = spy['Close'].pct_change()\n",
    "\n",
    "# Display the first few rows of returns\n",
    "print(tsla[['Close', 'Return']].head())\n",
    "print(bnd[['Close', 'Return']].head())\n",
    "print(spy[['Close', 'Return']].head())\n"
   ]
  },
  {
   "cell_type": "code",
   "execution_count": null,
   "id": "5fabec1d",
   "metadata": {},
   "outputs": [],
   "source": [
    "#  ADF Test for stationarity on daily returns\n",
    "def adf_test(series):\n",
    "    result = adfuller(series.dropna())\n",
    "    return result[0], result[1]  # ADF Statistic and p-value\n",
    "\n",
    "# Apply ADF test on daily returns for each asset\n",
    "adf_tsla = adf_test(tsla['Return'])\n",
    "adf_bnd = adf_test(bnd['Return'])\n",
    "adf_spy = adf_test(spy['Return'])\n",
    "\n",
    "# Display ADF test results\n",
    "print(f\"TSLA ADF Statistic: {adf_tsla[0]}, p-value: {adf_tsla[1]}\")\n",
    "print(f\"BND ADF Statistic: {adf_bnd[0]}, p-value: {adf_bnd[1]}\")\n",
    "print(f\"SPY ADF Statistic: {adf_spy[0]}, p-value: {adf_spy[1]}\")\n"
   ]
  },
  {
   "cell_type": "code",
   "execution_count": null,
   "id": "fb5b5673",
   "metadata": {},
   "outputs": [],
   "source": [
    "# Calculating rolling means and standard deviations for volatility\n",
    "window = 30  # 30-day rolling window\n",
    "\n",
    "# Calculate rolling mean and rolling standard deviation for TSLA, BND, and SPY\n",
    "tsla['Rolling Mean'] = tsla['Close'].rolling(window=window).mean()\n",
    "tsla['Rolling Std'] = tsla['Close'].rolling(window=window).std()\n",
    "\n",
    "bnd['Rolling Mean'] = bnd['Close'].rolling(window=window).mean()\n",
    "bnd['Rolling Std'] = bnd['Close'].rolling(window=window).std()\n",
    "\n",
    "spy['Rolling Mean'] = spy['Close'].rolling(window=window).mean()\n",
    "spy['Rolling Std'] = spy['Close'].rolling(window=window).std()\n",
    "\n",
    "# Plotting rolling mean and standard deviation for TSLA\n",
    "plt.figure(figsize=(12, 6))\n",
    "plt.plot(tsla['Close'], label='TSLA Close')\n",
    "plt.plot(tsla['Rolling Mean'], label='TSLA Rolling Mean', linestyle='--')\n",
    "plt.plot(tsla['Rolling Std'], label='TSLA Rolling Std', linestyle='--')\n",
    "plt.title('TSLA Closing Price, Rolling Mean, and Volatility')\n",
    "plt.legend()\n",
    "plt.show()\n"
   ]
  },
  {
   "cell_type": "code",
   "execution_count": null,
   "id": "7b26aa0e",
   "metadata": {},
   "outputs": [],
   "source": [
    "#  ARIMA Model for Forecasting (Tesla Returns)\n",
    "from statsmodels.tsa.arima.model import ARIMA\n",
    "\n",
    "# Fit ARIMA model (using default parameters p=1, d=1, q=1)\n",
    "model_tsla = ARIMA(tsla['Return'].dropna(), order=(1, 1, 1))\n",
    "model_tsla_fit = model_tsla.fit()\n",
    "\n",
    "# Forecast next 30 days\n",
    "forecast_tsla = model_tsla_fit.forecast(steps=30)\n",
    "forecast_tsla = pd.DataFrame(forecast_tsla, columns=['Forecast'], index=pd.date_range(start=tsla.index[-1], periods=30 + 1, freq='B')[1:])\n",
    "\n",
    "# Plot the forecast\n",
    "plt.figure(figsize=(12, 6))\n",
    "plt.plot(tsla['Return'], label='TSLA Return')\n",
    "plt.plot(forecast_tsla, label='TSLA Forecast', linestyle='--')\n",
    "plt.title('TSLA Daily Return Forecast using ARIMA')\n",
    "plt.legend()\n",
    "plt.show()\n",
    "\n",
    "# Evaluate ARIMA model's performance\n",
    "from sklearn.metrics import mean_squared_error\n",
    "arima_mse = mean_squared_error(tsla['Return'].dropna()[-30:], forecast_tsla)\n",
    "print(f\"ARIMA Model MSE: {arima_mse}\")\n"
   ]
  }
 ],
 "metadata": {
  "kernelspec": {
   "display_name": "Python 3",
   "language": "python",
   "name": "python3"
  },
  "language_info": {
   "codemirror_mode": {
    "name": "ipython",
    "version": 3
   },
   "file_extension": ".py",
   "mimetype": "text/x-python",
   "name": "python",
   "nbconvert_exporter": "python",
   "pygments_lexer": "ipython3",
   "version": "3.12.0"
  }
 },
 "nbformat": 4,
 "nbformat_minor": 5
}
