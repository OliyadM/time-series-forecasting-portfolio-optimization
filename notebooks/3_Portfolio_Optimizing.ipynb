{
 "cells": [
  {
   "cell_type": "code",
   "execution_count": null,
   "id": "8bf4071d",
   "metadata": {},
   "outputs": [],
   "source": [
    "import pandas as pd\n",
    "import numpy as np\n",
    "import matplotlib.pyplot as plt\n",
    "from pypfopt import (\n",
    "    EfficientSemivariance, \n",
    "    risk_models, \n",
    "    expected_returns,\n",
    "    plotting\n",
    ")"
   ]
  },
  {
   "cell_type": "code",
   "execution_count": null,
   "id": "6bec3c46",
   "metadata": {},
   "outputs": [
    {
     "name": "stdout",
     "output_type": "stream",
     "text": [
      "✅ Data loaded successfully. Shape: (364, 3)\n",
      "Latest data:\n",
      "                  BND       SPY      TSLA\n",
      "Date                                    \n",
      "2025-07-24 -0.007469  0.000439  0.009330\n",
      "2025-07-25  0.015051  0.005600 -0.008715\n",
      "2025-07-28 -0.009886 -0.000332 -0.002069\n",
      "2025-07-29  0.031615 -0.003492  0.003147\n",
      "2025-07-30 -0.015323 -0.001669 -0.000215\n",
      "✅ Data loaded successfully. Shape: (364, 3)\n",
      "Latest data:\n",
      "                  BND       SPY      TSLA\n",
      "Date                                    \n",
      "2025-07-24 -0.007469  0.000439  0.009330\n",
      "2025-07-25  0.015051  0.005600 -0.008715\n",
      "2025-07-28 -0.009886 -0.000332 -0.002069\n",
      "2025-07-29  0.031615 -0.003492  0.003147\n",
      "2025-07-30 -0.015323 -0.001669 -0.000215\n"
     ]
    }
   ],
   "source": [
    "# Load and validate data\n",
    "assets = ['BND', 'SPY', 'TSLA']\n",
    "data = {}\n",
    "for ticker in assets:\n",
    "    df = pd.read_csv(f'../data/{ticker}_cleaned.csv',\n",
    "                    index_col='Date', parse_dates=True)\n",
    "    assert 'Return' in df.columns, f\"Missing 'Return' column in {ticker}\"\n",
    "    data[ticker] = df['Return']\n",
    "\n",
    "combined_returns = pd.concat(data, axis=1)\n",
    "combined_returns.columns = assets  # Force consistent naming\n",
    "\n",
    "# Load forecast\n",
    "tsla_forecast = pd.read_csv('../data/TSLA_forecasted_returns.csv',\n",
    "                          index_col='Date', parse_dates=True).squeeze()\n",
    "\n",
    "# Merge data\n",
    "combined_returns['TSLA'] = tsla_forecast\n",
    "combined_returns = combined_returns.dropna()\n",
    "\n",
    "print(\"✅ Data loaded successfully. Shape:\", combined_returns.shape)\n",
    "print(\"Latest data:\\n\", combined_returns.tail())"
   ]
  },
  {
   "cell_type": "code",
   "execution_count": null,
   "id": "072265bd",
   "metadata": {},
   "outputs": [
    {
     "name": "stderr",
     "output_type": "stream",
     "text": [
      "c:\\Users\\Misirak\\AppData\\Local\\Programs\\Python\\Python312\\Lib\\site-packages\\pypfopt\\expected_returns.py:36: UserWarning: Some returns are infinite. Please check your price data.\n",
      "  warnings.warn(\n",
      "c:\\Users\\Misirak\\AppData\\Local\\Programs\\Python\\Python312\\Lib\\site-packages\\numpy\\core\\_methods.py:53: RuntimeWarning: invalid value encountered in reduce\n",
      "  return umr_prod(a, axis, dtype, out, keepdims, initial, where)\n",
      "c:\\Users\\Misirak\\AppData\\Local\\Programs\\Python\\Python312\\Lib\\site-packages\\pypfopt\\efficient_frontier\\efficient_frontier.py:149: UserWarning: Removing NaNs from returns\n",
      "  warnings.warn(\n"
     ]
    },
    {
     "ename": "SolverError",
     "evalue": "Solver 'OSQP' failed. Try another solver, or solve with verbose=True for more information.",
     "output_type": "error",
     "traceback": [
      "\u001b[1;31m---------------------------------------------------------------------------\u001b[0m",
      "\u001b[1;31mSolverError\u001b[0m                               Traceback (most recent call last)",
      "Cell \u001b[1;32mIn[58], line 9\u001b[0m\n\u001b[0;32m      7\u001b[0m \u001b[38;5;66;03m# Option 1: Use EfficientSemivariance with min_semivariance\u001b[39;00m\n\u001b[0;32m      8\u001b[0m ef_semi \u001b[38;5;241m=\u001b[39m EfficientSemivariance(mu, S, weight_bounds\u001b[38;5;241m=\u001b[39m(\u001b[38;5;241m0\u001b[39m, \u001b[38;5;241m0.5\u001b[39m))\n\u001b[1;32m----> 9\u001b[0m \u001b[43mef_semi\u001b[49m\u001b[38;5;241;43m.\u001b[39;49m\u001b[43mmin_semivariance\u001b[49m\u001b[43m(\u001b[49m\u001b[43m)\u001b[49m  \u001b[38;5;66;03m# Primary optimization method for semivariance\u001b[39;00m\n\u001b[0;32m     10\u001b[0m weights \u001b[38;5;241m=\u001b[39m ef_semi\u001b[38;5;241m.\u001b[39mclean_weights()\n\u001b[0;32m     12\u001b[0m \u001b[38;5;66;03m# Option 2: Alternatively use standard EfficientFrontier if you need max_sharpe\u001b[39;00m\n",
      "File \u001b[1;32mc:\\Users\\Misirak\\AppData\\Local\\Programs\\Python\\Python312\\Lib\\site-packages\\pypfopt\\efficient_frontier\\efficient_semivariance.py:129\u001b[0m, in \u001b[0;36mEfficientSemivariance.min_semivariance\u001b[1;34m(self, market_neutral)\u001b[0m\n\u001b[0;32m    127\u001b[0m \u001b[38;5;28mself\u001b[39m\u001b[38;5;241m.\u001b[39madd_constraint(\u001b[38;5;28;01mlambda\u001b[39;00m w: B \u001b[38;5;241m@\u001b[39m w \u001b[38;5;241m-\u001b[39m p \u001b[38;5;241m+\u001b[39m n \u001b[38;5;241m==\u001b[39m \u001b[38;5;241m0\u001b[39m)\n\u001b[0;32m    128\u001b[0m \u001b[38;5;28mself\u001b[39m\u001b[38;5;241m.\u001b[39m_make_weight_sum_constraint(market_neutral)\n\u001b[1;32m--> 129\u001b[0m \u001b[38;5;28;01mreturn\u001b[39;00m \u001b[38;5;28;43mself\u001b[39;49m\u001b[38;5;241;43m.\u001b[39;49m\u001b[43m_solve_cvxpy_opt_problem\u001b[49m\u001b[43m(\u001b[49m\u001b[43m)\u001b[49m\n",
      "File \u001b[1;32mc:\\Users\\Misirak\\AppData\\Local\\Programs\\Python\\Python312\\Lib\\site-packages\\pypfopt\\base_optimizer.py:307\u001b[0m, in \u001b[0;36mBaseConvexOptimizer._solve_cvxpy_opt_problem\u001b[1;34m(self)\u001b[0m\n\u001b[0;32m    302\u001b[0m         \u001b[38;5;28;01mif\u001b[39;00m \u001b[38;5;129;01mnot\u001b[39;00m constr_ids \u001b[38;5;241m==\u001b[39m \u001b[38;5;28mself\u001b[39m\u001b[38;5;241m.\u001b[39m_initial_constraint_ids:\n\u001b[0;32m    303\u001b[0m             \u001b[38;5;28;01mraise\u001b[39;00m exceptions\u001b[38;5;241m.\u001b[39mInstantiationError(\n\u001b[0;32m    304\u001b[0m                 \u001b[38;5;124m\"\u001b[39m\u001b[38;5;124mThe constraints were changed after the initial optimization. \u001b[39m\u001b[38;5;124m\"\u001b[39m\n\u001b[0;32m    305\u001b[0m                 \u001b[38;5;124m\"\u001b[39m\u001b[38;5;124mPlease create a new instance instead.\u001b[39m\u001b[38;5;124m\"\u001b[39m\n\u001b[0;32m    306\u001b[0m             )\n\u001b[1;32m--> 307\u001b[0m     \u001b[38;5;28;43mself\u001b[39;49m\u001b[38;5;241;43m.\u001b[39;49m\u001b[43m_opt\u001b[49m\u001b[38;5;241;43m.\u001b[39;49m\u001b[43msolve\u001b[49m\u001b[43m(\u001b[49m\n\u001b[0;32m    308\u001b[0m \u001b[43m        \u001b[49m\u001b[43msolver\u001b[49m\u001b[38;5;241;43m=\u001b[39;49m\u001b[38;5;28;43mself\u001b[39;49m\u001b[38;5;241;43m.\u001b[39;49m\u001b[43m_solver\u001b[49m\u001b[43m,\u001b[49m\u001b[43m \u001b[49m\u001b[43mverbose\u001b[49m\u001b[38;5;241;43m=\u001b[39;49m\u001b[38;5;28;43mself\u001b[39;49m\u001b[38;5;241;43m.\u001b[39;49m\u001b[43m_verbose\u001b[49m\u001b[43m,\u001b[49m\u001b[43m \u001b[49m\u001b[38;5;241;43m*\u001b[39;49m\u001b[38;5;241;43m*\u001b[39;49m\u001b[38;5;28;43mself\u001b[39;49m\u001b[38;5;241;43m.\u001b[39;49m\u001b[43m_solver_options\u001b[49m\n\u001b[0;32m    309\u001b[0m \u001b[43m    \u001b[49m\u001b[43m)\u001b[49m\n\u001b[0;32m    311\u001b[0m \u001b[38;5;28;01mexcept\u001b[39;00m (\u001b[38;5;167;01mTypeError\u001b[39;00m, cp\u001b[38;5;241m.\u001b[39mDCPError) \u001b[38;5;28;01mas\u001b[39;00m e:\n\u001b[0;32m    312\u001b[0m     \u001b[38;5;28;01mraise\u001b[39;00m exceptions\u001b[38;5;241m.\u001b[39mOptimizationError \u001b[38;5;28;01mfrom\u001b[39;00m \u001b[38;5;21;01me\u001b[39;00m\n",
      "File \u001b[1;32mc:\\Users\\Misirak\\AppData\\Local\\Programs\\Python\\Python312\\Lib\\site-packages\\cvxpy\\problems\\problem.py:609\u001b[0m, in \u001b[0;36mProblem.solve\u001b[1;34m(self, *args, **kwargs)\u001b[0m\n\u001b[0;32m    606\u001b[0m         \u001b[38;5;28;01mraise\u001b[39;00m \u001b[38;5;167;01mValueError\u001b[39;00m(\n\u001b[0;32m    607\u001b[0m             \u001b[38;5;124m\"\u001b[39m\u001b[38;5;124mCannot specify both \u001b[39m\u001b[38;5;124m'\u001b[39m\u001b[38;5;124msolver\u001b[39m\u001b[38;5;124m'\u001b[39m\u001b[38;5;124m and \u001b[39m\u001b[38;5;124m'\u001b[39m\u001b[38;5;124msolver_path\u001b[39m\u001b[38;5;124m'\u001b[39m\u001b[38;5;124m. Please choose one.\u001b[39m\u001b[38;5;124m\"\u001b[39m)\n\u001b[0;32m    608\u001b[0m     \u001b[38;5;28;01mreturn\u001b[39;00m \u001b[38;5;28mself\u001b[39m\u001b[38;5;241m.\u001b[39m_solve_solver_path(solve_func,solver_path, args, kwargs)\n\u001b[1;32m--> 609\u001b[0m \u001b[38;5;28;01mreturn\u001b[39;00m \u001b[43msolve_func\u001b[49m\u001b[43m(\u001b[49m\u001b[38;5;28;43mself\u001b[39;49m\u001b[43m,\u001b[49m\u001b[43m \u001b[49m\u001b[38;5;241;43m*\u001b[39;49m\u001b[43margs\u001b[49m\u001b[43m,\u001b[49m\u001b[43m \u001b[49m\u001b[38;5;241;43m*\u001b[39;49m\u001b[38;5;241;43m*\u001b[39;49m\u001b[43mkwargs\u001b[49m\u001b[43m)\u001b[49m\n",
      "File \u001b[1;32mc:\\Users\\Misirak\\AppData\\Local\\Programs\\Python\\Python312\\Lib\\site-packages\\cvxpy\\problems\\problem.py:1222\u001b[0m, in \u001b[0;36mProblem._solve\u001b[1;34m(self, solver, warm_start, verbose, bibtex, gp, qcp, requires_grad, enforce_dpp, ignore_dpp, canon_backend, **kwargs)\u001b[0m\n\u001b[0;32m   1220\u001b[0m end \u001b[38;5;241m=\u001b[39m time\u001b[38;5;241m.\u001b[39mtime()\n\u001b[0;32m   1221\u001b[0m \u001b[38;5;28mself\u001b[39m\u001b[38;5;241m.\u001b[39m_solve_time \u001b[38;5;241m=\u001b[39m end \u001b[38;5;241m-\u001b[39m start\n\u001b[1;32m-> 1222\u001b[0m \u001b[38;5;28;43mself\u001b[39;49m\u001b[38;5;241;43m.\u001b[39;49m\u001b[43munpack_results\u001b[49m\u001b[43m(\u001b[49m\u001b[43msolution\u001b[49m\u001b[43m,\u001b[49m\u001b[43m \u001b[49m\u001b[43msolving_chain\u001b[49m\u001b[43m,\u001b[49m\u001b[43m \u001b[49m\u001b[43minverse_data\u001b[49m\u001b[43m)\u001b[49m\n\u001b[0;32m   1223\u001b[0m \u001b[38;5;28;01mif\u001b[39;00m verbose:\n\u001b[0;32m   1224\u001b[0m     \u001b[38;5;28mprint\u001b[39m(_FOOTER)\n",
      "File \u001b[1;32mc:\\Users\\Misirak\\AppData\\Local\\Programs\\Python\\Python312\\Lib\\site-packages\\cvxpy\\problems\\problem.py:1547\u001b[0m, in \u001b[0;36mProblem.unpack_results\u001b[1;34m(self, solution, chain, inverse_data)\u001b[0m\n\u001b[0;32m   1545\u001b[0m     warnings\u001b[38;5;241m.\u001b[39mwarn(INF_OR_UNB_MESSAGE)\n\u001b[0;32m   1546\u001b[0m \u001b[38;5;28;01mif\u001b[39;00m solution\u001b[38;5;241m.\u001b[39mstatus \u001b[38;5;129;01min\u001b[39;00m s\u001b[38;5;241m.\u001b[39mERROR:\n\u001b[1;32m-> 1547\u001b[0m     \u001b[38;5;28;01mraise\u001b[39;00m error\u001b[38;5;241m.\u001b[39mSolverError(\n\u001b[0;32m   1548\u001b[0m             \u001b[38;5;124m\"\u001b[39m\u001b[38;5;124mSolver \u001b[39m\u001b[38;5;124m'\u001b[39m\u001b[38;5;132;01m%s\u001b[39;00m\u001b[38;5;124m'\u001b[39m\u001b[38;5;124m failed. \u001b[39m\u001b[38;5;124m\"\u001b[39m \u001b[38;5;241m%\u001b[39m chain\u001b[38;5;241m.\u001b[39msolver\u001b[38;5;241m.\u001b[39mname() \u001b[38;5;241m+\u001b[39m\n\u001b[0;32m   1549\u001b[0m             \u001b[38;5;124m\"\u001b[39m\u001b[38;5;124mTry another solver, or solve with verbose=True for more \u001b[39m\u001b[38;5;124m\"\u001b[39m\n\u001b[0;32m   1550\u001b[0m             \u001b[38;5;124m\"\u001b[39m\u001b[38;5;124minformation.\u001b[39m\u001b[38;5;124m\"\u001b[39m)\n\u001b[0;32m   1552\u001b[0m \u001b[38;5;28mself\u001b[39m\u001b[38;5;241m.\u001b[39munpack(solution)\n\u001b[0;32m   1553\u001b[0m \u001b[38;5;28mself\u001b[39m\u001b[38;5;241m.\u001b[39m_solver_stats \u001b[38;5;241m=\u001b[39m SolverStats\u001b[38;5;241m.\u001b[39mfrom_dict(\u001b[38;5;28mself\u001b[39m\u001b[38;5;241m.\u001b[39m_solution\u001b[38;5;241m.\u001b[39mattr,\n\u001b[0;32m   1554\u001b[0m                                  chain\u001b[38;5;241m.\u001b[39msolver\u001b[38;5;241m.\u001b[39mname())\n",
      "\u001b[1;31mSolverError\u001b[0m: Solver 'OSQP' failed. Try another solver, or solve with verbose=True for more information."
     ]
    }
   ],
   "source": [
    "# Calculate expected returns (annualized)\n",
    "# We'll use your LSTM forecast for TSLA and historical for others\n",
    "mu = pd.Series({\n",
    "    'TSLA': returns_df['TSLA'].mean() * 252,  # Annualize TSLA forecast returns\n",
    "    'BND': returns_df['BND'].mean() * 252,    # Annualize BND historical returns\n",
    "    'SPY': returns_df['SPY'].mean() * 252     # Annualize SPY historical returns\n",
    "})\n",
    "\n",
    "# Calculate covariance matrix (annualized)\n",
    "S = returns_df.cov() * 252\n",
    "\n",
    "print(\"Expected Annual Returns:\")\n",
    "print(mu.round(4))\n",
    "print(\"\\nAnnualized Covariance Matrix:\")\n",
    "print(S.round(6))"
   ]
  },
  {
   "cell_type": "code",
   "execution_count": 57,
   "id": "855a8eea",
   "metadata": {},
   "outputs": [
    {
     "name": "stderr",
     "output_type": "stream",
     "text": [
      "c:\\Users\\Misirak\\AppData\\Local\\Programs\\Python\\Python312\\Lib\\site-packages\\pypfopt\\expected_returns.py:36: UserWarning: Some returns are infinite. Please check your price data.\n",
      "  warnings.warn(\n",
      "c:\\Users\\Misirak\\AppData\\Local\\Programs\\Python\\Python312\\Lib\\site-packages\\numpy\\core\\_methods.py:53: RuntimeWarning: invalid value encountered in reduce\n",
      "  return umr_prod(a, axis, dtype, out, keepdims, initial, where)\n",
      "c:\\Users\\Misirak\\AppData\\Local\\Programs\\Python\\Python312\\Lib\\site-packages\\pypfopt\\efficient_frontier\\efficient_frontier.py:149: UserWarning: Removing NaNs from returns\n",
      "  warnings.warn(\n"
     ]
    },
    {
     "ename": "NotImplementedError",
     "evalue": "Method not available in EfficientSemivariance",
     "output_type": "error",
     "traceback": [
      "\u001b[1;31m---------------------------------------------------------------------------\u001b[0m",
      "\u001b[1;31mNotImplementedError\u001b[0m                       Traceback (most recent call last)",
      "Cell \u001b[1;32mIn[57], line 8\u001b[0m\n\u001b[0;32m      6\u001b[0m ef \u001b[38;5;241m=\u001b[39m EfficientSemivariance(mu, S, weight_bounds\u001b[38;5;241m=\u001b[39m(\u001b[38;5;241m0\u001b[39m, \u001b[38;5;241m0.5\u001b[39m))  \u001b[38;5;66;03m# No asset > 50%\u001b[39;00m\n\u001b[0;32m      7\u001b[0m ef\u001b[38;5;241m.\u001b[39madd_objective(objective_functions\u001b[38;5;241m.\u001b[39mL2_reg, gamma\u001b[38;5;241m=\u001b[39m\u001b[38;5;241m0.1\u001b[39m)  \u001b[38;5;66;03m# Prevent extreme weights\u001b[39;00m\n\u001b[1;32m----> 8\u001b[0m weights \u001b[38;5;241m=\u001b[39m \u001b[43mef\u001b[49m\u001b[38;5;241;43m.\u001b[39;49m\u001b[43mmax_sharpe\u001b[49m\u001b[43m(\u001b[49m\u001b[43m)\u001b[49m\n\u001b[0;32m      9\u001b[0m cleaned_weights \u001b[38;5;241m=\u001b[39m ef\u001b[38;5;241m.\u001b[39mclean_weights()\n\u001b[0;32m     11\u001b[0m \u001b[38;5;66;03m# Visualize\u001b[39;00m\n",
      "File \u001b[1;32mc:\\Users\\Misirak\\AppData\\Local\\Programs\\Python\\Python312\\Lib\\site-packages\\pypfopt\\efficient_frontier\\efficient_semivariance.py:107\u001b[0m, in \u001b[0;36mEfficientSemivariance.max_sharpe\u001b[1;34m(self, risk_free_rate)\u001b[0m\n\u001b[0;32m    106\u001b[0m \u001b[38;5;28;01mdef\u001b[39;00m \u001b[38;5;21mmax_sharpe\u001b[39m(\u001b[38;5;28mself\u001b[39m, risk_free_rate\u001b[38;5;241m=\u001b[39m\u001b[38;5;241m0.0\u001b[39m):\n\u001b[1;32m--> 107\u001b[0m     \u001b[38;5;28;01mraise\u001b[39;00m \u001b[38;5;167;01mNotImplementedError\u001b[39;00m(\u001b[38;5;124m\"\u001b[39m\u001b[38;5;124mMethod not available in EfficientSemivariance\u001b[39m\u001b[38;5;124m\"\u001b[39m)\n",
      "\u001b[1;31mNotImplementedError\u001b[0m: Method not available in EfficientSemivariance"
     ]
    }
   ],
   "source": [
    "# Calculate inputs\n",
    "mu = expected_returns.mean_historical_return(combined_returns)\n",
    "S = risk_models.semicovariance(combined_returns)\n",
    "\n",
    "# Optimize with constraints\n",
    "ef = EfficientSemivariance(mu, S, weight_bounds=(0, 0.5))  # No asset > 50%\n",
    "ef.add_objective(objective_functions.L2_reg, gamma=0.1)  # Prevent extreme weights\n",
    "weights = ef.max_sharpe()\n",
    "cleaned_weights = ef.clean_weights()\n",
    "\n",
    "# Visualize\n",
    "pd.Series(cleaned_weights).plot.pie(\n",
    "    autopct='%1.1f%%',\n",
    "    explode=[0.05]*len(assets),\n",
    "    title='Optimal Portfolio Allocation',\n",
    "    figsize=(8,8)\n",
    ")\n",
    "plt.show()"
   ]
  },
  {
   "cell_type": "code",
   "execution_count": null,
   "id": "dadac160",
   "metadata": {},
   "outputs": [
    {
     "ename": "KeyError",
     "evalue": "'BND'",
     "output_type": "error",
     "traceback": [
      "\u001b[1;31m---------------------------------------------------------------------------\u001b[0m",
      "\u001b[1;31mKeyError\u001b[0m                                  Traceback (most recent call last)",
      "Cell \u001b[1;32mIn[53], line 7\u001b[0m\n\u001b[0;32m      4\u001b[0m optimal_weights \u001b[38;5;241m=\u001b[39m weights \u001b[38;5;28;01mif\u001b[39;00m \u001b[38;5;124m'\u001b[39m\u001b[38;5;124mweights\u001b[39m\u001b[38;5;124m'\u001b[39m \u001b[38;5;129;01min\u001b[39;00m \u001b[38;5;28mlocals\u001b[39m() \u001b[38;5;28;01melse\u001b[39;00m equal_weights\n\u001b[0;32m      6\u001b[0m \u001b[38;5;66;03m# Convert weights to array format\u001b[39;00m\n\u001b[1;32m----> 7\u001b[0m weights_array \u001b[38;5;241m=\u001b[39m np\u001b[38;5;241m.\u001b[39marray([\u001b[43moptimal_weights\u001b[49m\u001b[43m[\u001b[49m\u001b[43mticker\u001b[49m\u001b[43m]\u001b[49m \u001b[38;5;28;01mfor\u001b[39;00m ticker \u001b[38;5;129;01min\u001b[39;00m combined_returns\u001b[38;5;241m.\u001b[39mcolumns])\n\u001b[0;32m      9\u001b[0m \u001b[38;5;66;03m# Calculate expected return manually\u001b[39;00m\n\u001b[0;32m     10\u001b[0m expected_return \u001b[38;5;241m=\u001b[39m np\u001b[38;5;241m.\u001b[39mdot(weights_array, mu) \u001b[38;5;241m*\u001b[39m \u001b[38;5;241m252\u001b[39m  \u001b[38;5;66;03m# Annualized\u001b[39;00m\n",
      "\u001b[1;31mKeyError\u001b[0m: 'BND'"
     ]
    }
   ],
   "source": [
    "from pypfopt import objective_functions\n",
    "\n",
    "# Get optimal weights\n",
    "optimal_weights = weights if 'weights' in locals() else equal_weights\n",
    "\n",
    "# Convert weights to array format\n",
    "weights_array = np.array([optimal_weights[ticker] for ticker in combined_returns.columns])\n",
    "\n",
    "# Calculate expected return manually\n",
    "expected_return = np.dot(weights_array, mu) * 252  # Annualized\n",
    "\n",
    "# 2. Calculate semideviation (downside risk)\n",
    "portfolio_returns = combined_returns @ weights_array\n",
    "downside_returns = np.minimum(portfolio_returns - 0, 0)  # Using 0 as benchmark\n",
    "semideviation = np.sqrt(np.mean(downside_returns**2)) * np.sqrt(252)\n",
    "\n",
    "# 3. Calculate Sortino ratio (assuming 0% risk-free rate)\n",
    "sortino_ratio = expected_return / semideviation\n",
    "\n",
    "print(\"=== Optimal Portfolio ===\")\n",
    "print(f\"Weights: {optimal_weights}\")\n",
    "print(f\"Expected Annual Return: {expected_return*100:.2f}%\")\n",
    "print(f\"Annual Semideviation: {semideviation*100:.2f}%\")\n",
    "print(f\"Sortino Ratio: {sortino_ratio:.2f}\")\n",
    "\n",
    "# Benchmark calculation\n",
    "bench_weights = np.array([0.6, 0.4, 0])  # SPY, BND, TSLA\n",
    "bench_return = np.dot(bench_weights[:2], mu[:2]) * 252  # Exclude TSLA\n",
    "bench_semidev = np.sqrt(np.mean((np.minimum(combined_returns.iloc[:,:2] @ bench_weights[:2], 0)**2))) * np.sqrt(252)\n",
    "\n",
    "print(\"\\n=== 60/40 Benchmark ===\")\n",
    "print(f\"Expected Annual Return: {bench_return*100:.2f}%\")\n",
    "print(f\"Annual Semideviation: {bench_semidev*100:.2f}%\")"
   ]
  },
  {
   "cell_type": "code",
   "execution_count": 33,
   "id": "a126b037",
   "metadata": {},
   "outputs": [
    {
     "ename": "InstantiationError",
     "evalue": "Adding constraints to an already solved problem might have unintended consequences. A new instance should be created for the new set of constraints.",
     "output_type": "error",
     "traceback": [
      "\u001b[1;31m---------------------------------------------------------------------------\u001b[0m",
      "\u001b[1;31mInstantiationError\u001b[0m                        Traceback (most recent call last)",
      "Cell \u001b[1;32mIn[33], line 6\u001b[0m\n\u001b[0;32m      4\u001b[0m \u001b[38;5;66;03m# Plot the efficient frontier\u001b[39;00m\n\u001b[0;32m      5\u001b[0m fig, ax \u001b[38;5;241m=\u001b[39m plt\u001b[38;5;241m.\u001b[39msubplots(figsize\u001b[38;5;241m=\u001b[39m(\u001b[38;5;241m10\u001b[39m, \u001b[38;5;241m6\u001b[39m))\n\u001b[1;32m----> 6\u001b[0m \u001b[43mplotting\u001b[49m\u001b[38;5;241;43m.\u001b[39;49m\u001b[43mplot_efficient_frontier\u001b[49m\u001b[43m(\u001b[49m\u001b[43mef\u001b[49m\u001b[43m,\u001b[49m\u001b[43m \u001b[49m\u001b[43max\u001b[49m\u001b[38;5;241;43m=\u001b[39;49m\u001b[43max\u001b[49m\u001b[43m,\u001b[49m\u001b[43m \u001b[49m\u001b[43mshow_assets\u001b[49m\u001b[38;5;241;43m=\u001b[39;49m\u001b[38;5;28;43;01mTrue\u001b[39;49;00m\u001b[43m)\u001b[49m\n\u001b[0;32m      8\u001b[0m \u001b[38;5;66;03m# Highlight key portfolios\u001b[39;00m\n\u001b[0;32m      9\u001b[0m ef\u001b[38;5;241m.\u001b[39mmax_sharpe()\n",
      "File \u001b[1;32mc:\\Users\\Misirak\\AppData\\Local\\Programs\\Python\\Python312\\Lib\\site-packages\\pypfopt\\plotting.py:357\u001b[0m, in \u001b[0;36mplot_efficient_frontier\u001b[1;34m(opt, ef_param, ef_param_range, points, ax, show_assets, show_tickers, interactive, **kwargs)\u001b[0m\n\u001b[0;32m    355\u001b[0m \u001b[38;5;28;01melif\u001b[39;00m \u001b[38;5;28misinstance\u001b[39m(opt, EfficientFrontier):\n\u001b[0;32m    356\u001b[0m     \u001b[38;5;28;01mif\u001b[39;00m ef_param_range \u001b[38;5;129;01mis\u001b[39;00m \u001b[38;5;28;01mNone\u001b[39;00m:\n\u001b[1;32m--> 357\u001b[0m         ef_param_range \u001b[38;5;241m=\u001b[39m \u001b[43m_ef_default_returns_range\u001b[49m\u001b[43m(\u001b[49m\u001b[43mopt\u001b[49m\u001b[43m,\u001b[49m\u001b[43m \u001b[49m\u001b[43mpoints\u001b[49m\u001b[43m)\u001b[49m\n\u001b[0;32m    359\u001b[0m     ax \u001b[38;5;241m=\u001b[39m _plot_ef(\n\u001b[0;32m    360\u001b[0m         opt,\n\u001b[0;32m    361\u001b[0m         ef_param,\n\u001b[1;32m   (...)\u001b[0m\n\u001b[0;32m    366\u001b[0m         interactive\u001b[38;5;241m=\u001b[39minteractive,\n\u001b[0;32m    367\u001b[0m     )\n\u001b[0;32m    368\u001b[0m \u001b[38;5;28;01melse\u001b[39;00m:\n",
      "File \u001b[1;32mc:\\Users\\Misirak\\AppData\\Local\\Programs\\Python\\Python312\\Lib\\site-packages\\pypfopt\\plotting.py:222\u001b[0m, in \u001b[0;36m_ef_default_returns_range\u001b[1;34m(ef, points)\u001b[0m\n\u001b[0;32m    219\u001b[0m ef_minvol \u001b[38;5;241m=\u001b[39m ef\u001b[38;5;241m.\u001b[39mdeepcopy()\n\u001b[0;32m    220\u001b[0m ef_maxret \u001b[38;5;241m=\u001b[39m ef\u001b[38;5;241m.\u001b[39mdeepcopy()\n\u001b[1;32m--> 222\u001b[0m \u001b[43mef_minvol\u001b[49m\u001b[38;5;241;43m.\u001b[39;49m\u001b[43mmin_volatility\u001b[49m\u001b[43m(\u001b[49m\u001b[43m)\u001b[49m\n\u001b[0;32m    223\u001b[0m min_ret \u001b[38;5;241m=\u001b[39m ef_minvol\u001b[38;5;241m.\u001b[39mportfolio_performance()[\u001b[38;5;241m0\u001b[39m]\n\u001b[0;32m    224\u001b[0m max_ret \u001b[38;5;241m=\u001b[39m ef_maxret\u001b[38;5;241m.\u001b[39m_max_return()\n",
      "File \u001b[1;32mc:\\Users\\Misirak\\AppData\\Local\\Programs\\Python\\Python312\\Lib\\site-packages\\pypfopt\\efficient_frontier\\efficient_frontier.py:199\u001b[0m, in \u001b[0;36mEfficientFrontier.min_volatility\u001b[1;34m(self)\u001b[0m\n\u001b[0;32m    196\u001b[0m \u001b[38;5;28;01mfor\u001b[39;00m obj \u001b[38;5;129;01min\u001b[39;00m \u001b[38;5;28mself\u001b[39m\u001b[38;5;241m.\u001b[39m_additional_objectives:\n\u001b[0;32m    197\u001b[0m     \u001b[38;5;28mself\u001b[39m\u001b[38;5;241m.\u001b[39m_objective \u001b[38;5;241m+\u001b[39m\u001b[38;5;241m=\u001b[39m obj\n\u001b[1;32m--> 199\u001b[0m \u001b[38;5;28;43mself\u001b[39;49m\u001b[38;5;241;43m.\u001b[39;49m\u001b[43madd_constraint\u001b[49m\u001b[43m(\u001b[49m\u001b[38;5;28;43;01mlambda\u001b[39;49;00m\u001b[43m \u001b[49m\u001b[43mw\u001b[49m\u001b[43m:\u001b[49m\u001b[43m \u001b[49m\u001b[43mcp\u001b[49m\u001b[38;5;241;43m.\u001b[39;49m\u001b[43msum\u001b[49m\u001b[43m(\u001b[49m\u001b[43mw\u001b[49m\u001b[43m)\u001b[49m\u001b[43m \u001b[49m\u001b[38;5;241;43m==\u001b[39;49m\u001b[43m \u001b[49m\u001b[38;5;241;43m1\u001b[39;49m\u001b[43m)\u001b[49m\n\u001b[0;32m    200\u001b[0m \u001b[38;5;28;01mreturn\u001b[39;00m \u001b[38;5;28mself\u001b[39m\u001b[38;5;241m.\u001b[39m_solve_cvxpy_opt_problem()\n",
      "File \u001b[1;32mc:\\Users\\Misirak\\AppData\\Local\\Programs\\Python\\Python312\\Lib\\site-packages\\pypfopt\\base_optimizer.py:362\u001b[0m, in \u001b[0;36mBaseConvexOptimizer.add_constraint\u001b[1;34m(self, new_constraint)\u001b[0m\n\u001b[0;32m    358\u001b[0m     \u001b[38;5;28;01mraise\u001b[39;00m \u001b[38;5;167;01mTypeError\u001b[39;00m(\n\u001b[0;32m    359\u001b[0m         \u001b[38;5;124m\"\u001b[39m\u001b[38;5;124mNew constraint must be provided as a callable (e.g lambda function)\u001b[39m\u001b[38;5;124m\"\u001b[39m\n\u001b[0;32m    360\u001b[0m     )\n\u001b[0;32m    361\u001b[0m \u001b[38;5;28;01mif\u001b[39;00m \u001b[38;5;28mself\u001b[39m\u001b[38;5;241m.\u001b[39m_opt \u001b[38;5;129;01mis\u001b[39;00m \u001b[38;5;129;01mnot\u001b[39;00m \u001b[38;5;28;01mNone\u001b[39;00m:\n\u001b[1;32m--> 362\u001b[0m     \u001b[38;5;28;01mraise\u001b[39;00m exceptions\u001b[38;5;241m.\u001b[39mInstantiationError(\n\u001b[0;32m    363\u001b[0m         \u001b[38;5;124m\"\u001b[39m\u001b[38;5;124mAdding constraints to an already solved problem might have unintended consequences. \u001b[39m\u001b[38;5;124m\"\u001b[39m\n\u001b[0;32m    364\u001b[0m         \u001b[38;5;124m\"\u001b[39m\u001b[38;5;124mA new instance should be created for the new set of constraints.\u001b[39m\u001b[38;5;124m\"\u001b[39m\n\u001b[0;32m    365\u001b[0m     )\n\u001b[0;32m    366\u001b[0m \u001b[38;5;28mself\u001b[39m\u001b[38;5;241m.\u001b[39m_constraints\u001b[38;5;241m.\u001b[39mappend(new_constraint(\u001b[38;5;28mself\u001b[39m\u001b[38;5;241m.\u001b[39m_w))\n",
      "\u001b[1;31mInstantiationError\u001b[0m: Adding constraints to an already solved problem might have unintended consequences. A new instance should be created for the new set of constraints."
     ]
    },
    {
     "data": {
      "image/png": "[encoded data removed]",
      "text/plain": [
       "<Figure size 1000x600 with 1 Axes>"
      ]
     },
     "metadata": {},
     "output_type": "display_data"
    }
   ],
   "source": [
    "import matplotlib.pyplot as plt\n",
    "from pypfopt import plotting\n",
    "\n",
    "# Plot the efficient frontier\n",
    "fig, ax = plt.subplots(figsize=(10, 6))\n",
    "plotting.plot_efficient_frontier(ef, ax=ax, show_assets=True)\n",
    "\n",
    "# Highlight key portfolios\n",
    "ef.max_sharpe()\n",
    "ret_tangent, std_tangent, _ = ef.portfolio_performance()\n",
    "ax.scatter(std_tangent, ret_tangent, marker='*', s=300, c='gold', label='Max Sharpe Ratio')\n",
    "\n",
    "ef.min_volatility()\n",
    "ret_min_vol, std_min_vol, _ = ef.portfolio_performance()\n",
    "ax.scatter(std_min_vol, ret_min_vol, marker='*', s=300, c='green', label='Min Volatility')\n",
    "\n",
    "# Formatting\n",
    "ax.set_title('Efficient Frontier with Key Portfolios', pad=20)\n",
    "ax.set_xlabel('Annualized Volatility (Risk)')\n",
    "ax.set_ylabel('Annualized Return')\n",
    "ax.legend(loc='upper left')\n",
    "plt.grid(True, alpha=0.3)\n",
    "plt.tight_layout()\n",
    "plt.show()"
   ]
  },
  {
   "cell_type": "code",
   "execution_count": null,
   "id": "e19bc8f0",
   "metadata": {},
   "outputs": [],
   "source": []
  }
 ],
 "metadata": {
  "kernelspec": {
   "display_name": "Python 3",
   "language": "python",
   "name": "python3"
  },
  "language_info": {
   "codemirror_mode": {
    "name": "ipython",
    "version": 3
   },
   "file_extension": ".py",
   "mimetype": "text/x-python",
   "name": "python",
   "nbconvert_exporter": "python",
   "pygments_lexer": "ipython3",
   "version": "3.12.0"
  }
 },
 "nbformat": 4,
 "nbformat_minor": 5
}
